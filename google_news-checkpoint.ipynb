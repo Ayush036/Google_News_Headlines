{
 "cells": [
  {
   "cell_type": "code",
   "execution_count": 12,
   "metadata": {},
   "outputs": [],
   "source": [
    "import requests\n",
    "from bs4 import BeautifulSoup\n",
    "from gtts import gTTS\n",
    "import os\n"
   ]
  },
  {
   "cell_type": "code",
   "execution_count": 2,
   "metadata": {},
   "outputs": [],
   "source": [
    "URL = 'https://news.google.com/topstories?hl=en-IN&gl=IN&ceid=IN:en'\n",
    "page = requests.get(URL)"
   ]
  },
  {
   "cell_type": "code",
   "execution_count": 3,
   "metadata": {},
   "outputs": [],
   "source": [
    "soup = BeautifulSoup(page.content, 'html.parser')"
   ]
  },
  {
   "cell_type": "code",
   "execution_count": 4,
   "metadata": {},
   "outputs": [],
   "source": [
    "names = soup.find_all(\"h3\",class_= \"ipQwMb ekueJc RD0gLb\")\n",
    "n2=[]\n",
    "for i in names:\n",
    "    n2.append(i.get_text())"
   ]
  },
  {
   "cell_type": "code",
   "execution_count": 5,
   "metadata": {
    "scrolled": true
   },
   "outputs": [
    {
     "data": {
      "text/plain": [
       "['Delhi Cop Attacked With Sword In Tractor Rally Violence, Say Police',\n",
       " 'Farmers’ protests | Republic Day violence a result of conspiracy, says Samukyt Kisan Morcha',\n",
       " 'Who is Deep Sidhu and why is he in news over Red Fort violence?',\n",
       " 'Union Budget 2021: Finance Ministry May Give Relief Up to Rs 80,000 in Total Tax Liability to Encourage S...',\n",
       " 'Covaxin effectively neutralises UK variants: Bharat Biotech',\n",
       " 'SC Stays Order Saying Groping Without ‘Contact’ Not Sexual Assault']"
      ]
     },
     "execution_count": 5,
     "metadata": {},
     "output_type": "execute_result"
    }
   ],
   "source": []
  },
  {
   "cell_type": "code",
   "execution_count": 13,
   "metadata": {},
   "outputs": [],
   "source": [
    "def concatenate_list_data(list):\n",
    "    result= ''\n",
    "    for element in list:\n",
    "        result += str(element)\n",
    "        \n",
    "    #return result\n",
    "    \n",
    "    text_to_speech = gTTS(text=result, lang='en', slow=False) \n",
    "    text_to_speech.save(\"welcome.mp3\") \n",
    "    os.system(\"start welcome.mp3\")\n",
    "    \n",
    "concatenate_list_data(n2)\n",
    "#print(n2)"
   ]
  }
 ],
 "metadata": {
  "kernelspec": {
   "display_name": "Python 3",
   "language": "python",
   "name": "python3"
  },
  "language_info": {
   "codemirror_mode": {
    "name": "ipython",
    "version": 3
   },
   "file_extension": ".py",
   "mimetype": "text/x-python",
   "name": "python",
   "nbconvert_exporter": "python",
   "pygments_lexer": "ipython3",
   "version": "3.8.3"
  }
 },
 "nbformat": 4,
 "nbformat_minor": 4
}
