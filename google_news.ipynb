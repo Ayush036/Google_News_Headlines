{
 "cells": [
  {
   "cell_type": "code",
   "execution_count": 1,
   "metadata": {},
   "outputs": [],
   "source": [
    "import requests\n",
    "from bs4 import BeautifulSoup"
   ]
  },
  {
   "cell_type": "code",
   "execution_count": 2,
   "metadata": {},
   "outputs": [],
   "source": [
    "URL = 'https://news.google.com/topstories?hl=en-IN&gl=IN&ceid=IN:en'\n",
    "page = requests.get(URL)"
   ]
  },
  {
   "cell_type": "code",
   "execution_count": 3,
   "metadata": {},
   "outputs": [],
   "source": [
    "soup = BeautifulSoup(page.content, 'html.parser')"
   ]
  },
  {
   "cell_type": "code",
   "execution_count": 17,
   "metadata": {},
   "outputs": [],
   "source": [
    "names = soup.find_all(\"h3\",class_= \"ipQwMb ekueJc RD0gLb\")\n",
    "n2=[]\n",
    "for i in names:\n",
    "    n2.append(i.get_text())"
   ]
  },
  {
   "cell_type": "code",
   "execution_count": 18,
   "metadata": {},
   "outputs": [
    {
     "data": {
      "text/plain": [
       "['Farmers Clash With Cops In Heart Of Delhi, Drive Tractors Into Red Fort: 10 Points',\n",
       " \"Half The Distance, Fewer Spectators: What's New This Republic Day Parade\",\n",
       " 'Bangladesh contingent, 2 women pilots, Rafale, Ladakh tableau make debut on R-Day parade',\n",
       " 'Watch: Republic Day Showstopper Rafale Jet\\'s \"Vertical Charlie\" Manouevre',\n",
       " 'Best offer given to farmers, says minister Tomar, adds stir will end soon',\n",
       " '\"Governor Has Time To Meet Kangana Ranaut But Not Farmers\": Sharad Pawar']"
      ]
     },
     "execution_count": 18,
     "metadata": {},
     "output_type": "execute_result"
    }
   ],
   "source": [
    "n2"
   ]
  },
  {
   "cell_type": "code",
   "execution_count": null,
   "metadata": {},
   "outputs": [],
   "source": []
  }
 ],
 "metadata": {
  "kernelspec": {
   "display_name": "Python 3",
   "language": "python",
   "name": "python3"
  },
  "language_info": {
   "codemirror_mode": {
    "name": "ipython",
    "version": 3
   },
   "file_extension": ".py",
   "mimetype": "text/x-python",
   "name": "python",
   "nbconvert_exporter": "python",
   "pygments_lexer": "ipython3",
   "version": "3.7.6"
  }
 },
 "nbformat": 4,
 "nbformat_minor": 4
}
